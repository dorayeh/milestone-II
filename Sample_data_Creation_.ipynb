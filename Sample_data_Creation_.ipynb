{
  "cells": [
    {
      "cell_type": "code",
      "execution_count": 1,
      "metadata": {
        "colab": {
          "base_uri": "https://localhost:8080/"
        },
        "id": "pQpU5I1Y7lqN",
        "outputId": "5eb30b7a-4ccf-4738-c3f4-6dc7afdac521"
      },
      "outputs": [
        {
          "output_type": "stream",
          "name": "stderr",
          "text": [
            "[nltk_data] Downloading package stopwords to /root/nltk_data...\n",
            "[nltk_data]   Unzipping corpora/stopwords.zip.\n"
          ]
        }
      ],
      "source": [
        "# Built-in libraries\n",
        "import re\n",
        "import string\n",
        "import warnings\n",
        "\n",
        "# Third-party libraries for data handling and processing\n",
        "import numpy as np\n",
        "import pandas as pd\n",
        "from nltk.corpus import stopwords\n",
        "from tqdm import tqdm\n",
        "\n",
        "# Miscellaneous\n",
        "import nltk\n",
        "nltk.download('stopwords')\n",
        "stop_words = set(stopwords.words('english'))\n",
        "tqdm.pandas()\n",
        "warnings.filterwarnings(\"ignore\")\n"
      ]
    },
    {
      "cell_type": "code",
      "execution_count": 3,
      "metadata": {
        "colab": {
          "base_uri": "https://localhost:8080/"
        },
        "id": "k87noVVm8o7x",
        "outputId": "7144aa8c-d14b-4fe5-d816-0033b7bb9d3e"
      },
      "outputs": [
        {
          "output_type": "stream",
          "name": "stdout",
          "text": [
            "Mounted at /content/drive\n"
          ]
        }
      ],
      "source": [
        "from google.colab import drive\n",
        "drive.mount('/content/drive')"
      ]
    },
    {
      "cell_type": "code",
      "execution_count": 4,
      "metadata": {
        "id": "pmAeGG8k8gi-"
      },
      "outputs": [],
      "source": [
        "df = pd.read_csv('/content/drive/MyDrive/Colab Notebooks/complaints.csv')"
      ]
    },
    {
      "cell_type": "code",
      "execution_count": 5,
      "metadata": {
        "id": "hZuTthRG9Zf0",
        "colab": {
          "base_uri": "https://localhost:8080/"
        },
        "outputId": "6c1435c1-4e71-403f-8214-27301362391d"
      },
      "outputs": [
        {
          "output_type": "stream",
          "name": "stdout",
          "text": [
            "(4028530, 18)\n"
          ]
        }
      ],
      "source": [
        "print(df.shape)"
      ]
    },
    {
      "cell_type": "code",
      "source": [
        "# Create a DataFrame containing the first 100 records\n",
        "sample_df = df.head(100)\n",
        "\n",
        "# Save the sample DataFrame to a CSV file\n",
        "sample_df.to_csv('/content/drive/MyDrive/Colab Notebooks/sample_data.csv', index=False)"
      ],
      "metadata": {
        "id": "1KIjqxlhKc1P"
      },
      "execution_count": 6,
      "outputs": []
    }
  ],
  "metadata": {
    "accelerator": "GPU",
    "colab": {
      "machine_shape": "hm",
      "provenance": [],
      "gpuType": "T4"
    },
    "kernelspec": {
      "display_name": "Python 3",
      "name": "python3"
    },
    "language_info": {
      "name": "python"
    }
  },
  "nbformat": 4,
  "nbformat_minor": 0
}